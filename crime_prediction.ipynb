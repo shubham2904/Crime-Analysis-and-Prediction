{
  "nbformat": 4,
  "nbformat_minor": 0,
  "metadata": {
    "colab": {
      "name": "crime_prediction.ipynb",
      "provenance": [],
      "collapsed_sections": [],
      "machine_shape": "hm",
      "include_colab_link": true
    },
    "kernelspec": {
      "name": "python3",
      "display_name": "Python 3"
    },
    "accelerator": "GPU"
  },
  "cells": [
    {
      "cell_type": "markdown",
      "metadata": {
        "id": "view-in-github",
        "colab_type": "text"
      },
      "source": [
        "<a href=\"https://colab.research.google.com/github/shubham2904/Crime-Analysis-and-Prediction/blob/main/crime_prediction.ipynb\" target=\"_parent\"><img src=\"https://colab.research.google.com/assets/colab-badge.svg\" alt=\"Open In Colab\"/></a>"
      ]
    },
    {
      "cell_type": "code",
      "metadata": {
        "id": "Z2MFmvuuN5hu",
        "colab": {
          "base_uri": "https://localhost:8080/",
          "height": 122
        },
        "outputId": "31a70b80-8217-4d49-acdf-ea178ecc3c16"
      },
      "source": [
        "from google.colab import drive\n",
        "drive.mount('/content/drive')"
      ],
      "execution_count": null,
      "outputs": [
        {
          "output_type": "stream",
          "text": [
            "Go to this URL in a browser: https://accounts.google.com/o/oauth2/auth?client_id=947318989803-6bn6qk8qdgf4n4g3pfee6491hc0brc4i.apps.googleusercontent.com&redirect_uri=urn%3aietf%3awg%3aoauth%3a2.0%3aoob&response_type=code&scope=email%20https%3a%2f%2fwww.googleapis.com%2fauth%2fdocs.test%20https%3a%2f%2fwww.googleapis.com%2fauth%2fdrive%20https%3a%2f%2fwww.googleapis.com%2fauth%2fdrive.photos.readonly%20https%3a%2f%2fwww.googleapis.com%2fauth%2fpeopleapi.readonly\n",
            "\n",
            "Enter your authorization code:\n",
            "··········\n",
            "Mounted at /content/drive\n"
          ],
          "name": "stdout"
        }
      ]
    },
    {
      "cell_type": "code",
      "metadata": {
        "id": "2_E2cWUVwQ5K",
        "colab": {
          "base_uri": "https://localhost:8080/",
          "height": 34
        },
        "outputId": "8ee76dc8-2817-4cd3-dc72-943ba2eb1583"
      },
      "source": [
        "import pandas as pd\n",
        "import numpy as np\n",
        "import datetime\n",
        "import os\n",
        "import sys\n",
        "import matplotlib.image as mpimg\n",
        "import tensorflow as tf\n",
        "from datetime import datetime\n",
        "from datetime import timedelta\n",
        "import matplotlib.pyplot as plt\n",
        "import h5py\n",
        "import keras\n",
        "import gc\n",
        "from keras.optimizers import RMSprop,Adam\n",
        "from keras.layers import AveragePooling2D\n",
        "from keras.models import Sequential,load_model\n",
        "from keras.layers.convolutional import Conv3D\n",
        "from keras.layers.convolutional_recurrent import ConvLSTM2D\n",
        "from keras.models import Model\n",
        "from keras.layers import Input, Dense, MaxPooling2D, MaxPooling3D, Dropout, BatchNormalization, Flatten, Conv2D, Conv3D, AveragePooling3D, LSTM, Reshape\n",
        "from keras import backend as K\n",
        "from keras.callbacks import History \n",
        "import glob\n",
        "from mlxtend.data import loadlocal_mnist\n",
        "import cv2\n",
        "%matplotlib inline"
      ],
      "execution_count": null,
      "outputs": [
        {
          "output_type": "stream",
          "text": [
            "Using TensorFlow backend.\n"
          ],
          "name": "stderr"
        }
      ]
    },
    {
      "cell_type": "code",
      "metadata": {
        "id": "7uDmbZ5icgMF"
      },
      "source": [
        "#!pip install patool\n",
        "#import patoolib\n",
        "#patoolib.extract_archive(\"/content/drive/My Drive/newtrain.zip\", outdir=\"/content/drive/My Drive/newz/train\")\n"
      ],
      "execution_count": null,
      "outputs": []
    },
    {
      "cell_type": "code",
      "metadata": {
        "id": "CRjDs_38u_SC"
      },
      "source": [
        "files = glob.glob('/content/drive/My Drive/New folder (2)/*.png')\n"
      ],
      "execution_count": null,
      "outputs": []
    },
    {
      "cell_type": "code",
      "metadata": {
        "id": "0O_p5t5xvIGd",
        "colab": {
          "base_uri": "https://localhost:8080/",
          "height": 88
        },
        "outputId": "1e8b49a8-969a-47d0-ed61-47f04356892e"
      },
      "source": [
        "!pip install scipy --upgrade --\n",
        "print(len(files))"
      ],
      "execution_count": null,
      "outputs": [
        {
          "output_type": "stream",
          "text": [
            "Requirement already up-to-date: scipy in /usr/local/lib/python3.6/dist-packages (1.4.1)\n",
            "Requirement already satisfied, skipping upgrade: numpy>=1.13.3 in /usr/local/lib/python3.6/dist-packages (from scipy) (1.18.4)\n",
            "33\n"
          ],
          "name": "stdout"
        }
      ]
    },
    {
      "cell_type": "code",
      "metadata": {
        "id": "6Z1PLZvzLeYG",
        "colab": {
          "base_uri": "https://localhost:8080/",
          "height": 54
        },
        "outputId": "89c2fd8e-a5ac-4f3f-e126-e662cafa9c07"
      },
      "source": [
        "\"\"\"images = []\n",
        "for file in files:\n",
        "  mm = cv2.imread(file)\n",
        "  b,g,r = cv2.split(mm)       # get b,g,r\n",
        "  rgb_img = cv2.merge([r,g,b])     # switch it to rgb\n",
        "  img = cv2.resize(rgb_img,(200,200) )/255\n",
        "  print(img.shape)\n",
        "  images.append(img)\n",
        "images = np.array(images)\n",
        "img = cv2.cvtColor(img,cv2.COLOR_RGBA2RGB)\"\"\""
      ],
      "execution_count": null,
      "outputs": [
        {
          "output_type": "execute_result",
          "data": {
            "text/plain": [
              "'images = []\\nfor file in files:\\n  mm = cv2.imread(file)\\n  b,g,r = cv2.split(mm)       # get b,g,r\\n  rgb_img = cv2.merge([r,g,b])     # switch it to rgb\\n  img = cv2.resize(rgb_img,(200,200) )/255\\n  print(img.shape)\\n  images.append(img)\\nimages = np.array(images)\\nimg = cv2.cvtColor(img,cv2.COLOR_RGBA2RGB)'"
            ]
          },
          "metadata": {
            "tags": []
          },
          "execution_count": 6
        }
      ]
    },
    {
      "cell_type": "code",
      "metadata": {
        "id": "u_DpypxpwsPx",
        "colab": {
          "base_uri": "https://localhost:8080/",
          "height": 578
        },
        "outputId": "8ffad38a-efe7-4bac-916f-0c8baad50db6"
      },
      "source": [
        "images = []\n",
        "for file in files:\n",
        "  img=cv2.resize(plt.imread(file),(200,200))/255\n",
        "  img = cv2.cvtColor(img,cv2.COLOR_RGBA2RGB)\n",
        "  print(img.shape)\n",
        "  images.append(img)\n",
        "images = np.asarray(images).astype('float32')"
      ],
      "execution_count": null,
      "outputs": [
        {
          "output_type": "stream",
          "text": [
            "(200, 200, 3)\n",
            "(200, 200, 3)\n",
            "(200, 200, 3)\n",
            "(200, 200, 3)\n",
            "(200, 200, 3)\n",
            "(200, 200, 3)\n",
            "(200, 200, 3)\n",
            "(200, 200, 3)\n",
            "(200, 200, 3)\n",
            "(200, 200, 3)\n",
            "(200, 200, 3)\n",
            "(200, 200, 3)\n",
            "(200, 200, 3)\n",
            "(200, 200, 3)\n",
            "(200, 200, 3)\n",
            "(200, 200, 3)\n",
            "(200, 200, 3)\n",
            "(200, 200, 3)\n",
            "(200, 200, 3)\n",
            "(200, 200, 3)\n",
            "(200, 200, 3)\n",
            "(200, 200, 3)\n",
            "(200, 200, 3)\n",
            "(200, 200, 3)\n",
            "(200, 200, 3)\n",
            "(200, 200, 3)\n",
            "(200, 200, 3)\n",
            "(200, 200, 3)\n",
            "(200, 200, 3)\n",
            "(200, 200, 3)\n",
            "(200, 200, 3)\n",
            "(200, 200, 3)\n",
            "(200, 200, 3)\n"
          ],
          "name": "stdout"
        }
      ]
    },
    {
      "cell_type": "code",
      "metadata": {
        "id": "WFhxIgb-wx6N"
      },
      "source": [
        "w,h =200,200  #image shape\n"
      ],
      "execution_count": null,
      "outputs": []
    },
    {
      "cell_type": "code",
      "metadata": {
        "id": "41JY7tSgxLit"
      },
      "source": [
        "def fn_get_model_convLSTM_tframe_1():\n",
        "    \n",
        "    model = Sequential()\n",
        "    model.add(ConvLSTM2D(filters=40, kernel_size=(3, 3),\n",
        "                       input_shape=(None, w, h, 3),padding='same', return_sequences=True))\n",
        "    model.add(BatchNormalization())\n",
        "\n",
        "    model.add(ConvLSTM2D(filters=60, kernel_size=(3, 3), padding='same', return_sequences=True))\n",
        "    model.add(BatchNormalization())\n",
        "\n",
        "    model.add(ConvLSTM2D(filters=60, kernel_size=(3, 3), padding='same', return_sequences=True))\n",
        "    model.add(BatchNormalization())\n",
        "    \n",
        "    model.add(ConvLSTM2D(filters=60, kernel_size=(3, 3), padding='same', return_sequences=False))\n",
        "    model.add(BatchNormalization())\n",
        "    \n",
        "\n",
        "    model.add(Conv2D(filters=60, kernel_size=(3, 3),activation='linear', padding='same', data_format='channels_last'))\n",
        "    model.add(BatchNormalization())\n",
        "\n",
        "    model.add(Conv2D(filters=60, kernel_size=(3, 3),activation='linear', padding='same', data_format='channels_last'))\n",
        "    model.add(BatchNormalization())\n",
        "\n",
        "    model.add(Conv2D(filters=30, kernel_size=(3, 3),activation='linear', padding='same', data_format='channels_last'))\n",
        "    model.add(BatchNormalization())\n",
        "\n",
        "    \n",
        "\n",
        "    model.add(Conv2D(filters=3, kernel_size=(1, 1),activation='linear', padding='same', data_format='channels_last'))\n",
        "   \n",
        "\n",
        "    print(model.summary())\n",
        "    return model"
      ],
      "execution_count": null,
      "outputs": []
    },
    {
      "cell_type": "code",
      "metadata": {
        "id": "0RPNTAaHxQP4",
        "colab": {
          "base_uri": "https://localhost:8080/",
          "height": 680
        },
        "outputId": "213f76af-ee06-483a-cb31-99498aecd18a"
      },
      "source": [
        "model = fn_get_model_convLSTM_tframe_1()"
      ],
      "execution_count": null,
      "outputs": [
        {
          "output_type": "stream",
          "text": [
            "Model: \"sequential_1\"\n",
            "_________________________________________________________________\n",
            "Layer (type)                 Output Shape              Param #   \n",
            "=================================================================\n",
            "conv_lst_m2d_1 (ConvLSTM2D)  (None, None, 200, 200, 40 62080     \n",
            "_________________________________________________________________\n",
            "batch_normalization_1 (Batch (None, None, 200, 200, 40 160       \n",
            "_________________________________________________________________\n",
            "conv_lst_m2d_2 (ConvLSTM2D)  (None, None, 200, 200, 60 216240    \n",
            "_________________________________________________________________\n",
            "batch_normalization_2 (Batch (None, None, 200, 200, 60 240       \n",
            "_________________________________________________________________\n",
            "conv_lst_m2d_3 (ConvLSTM2D)  (None, None, 200, 200, 60 259440    \n",
            "_________________________________________________________________\n",
            "batch_normalization_3 (Batch (None, None, 200, 200, 60 240       \n",
            "_________________________________________________________________\n",
            "conv_lst_m2d_4 (ConvLSTM2D)  (None, 200, 200, 60)      259440    \n",
            "_________________________________________________________________\n",
            "batch_normalization_4 (Batch (None, 200, 200, 60)      240       \n",
            "_________________________________________________________________\n",
            "conv2d_1 (Conv2D)            (None, 200, 200, 60)      32460     \n",
            "_________________________________________________________________\n",
            "batch_normalization_5 (Batch (None, 200, 200, 60)      240       \n",
            "_________________________________________________________________\n",
            "conv2d_2 (Conv2D)            (None, 200, 200, 60)      32460     \n",
            "_________________________________________________________________\n",
            "batch_normalization_6 (Batch (None, 200, 200, 60)      240       \n",
            "_________________________________________________________________\n",
            "conv2d_3 (Conv2D)            (None, 200, 200, 30)      16230     \n",
            "_________________________________________________________________\n",
            "batch_normalization_7 (Batch (None, 200, 200, 30)      120       \n",
            "_________________________________________________________________\n",
            "conv2d_4 (Conv2D)            (None, 200, 200, 3)       93        \n",
            "=================================================================\n",
            "Total params: 879,923\n",
            "Trainable params: 879,183\n",
            "Non-trainable params: 740\n",
            "_________________________________________________________________\n",
            "None\n"
          ],
          "name": "stdout"
        }
      ]
    },
    {
      "cell_type": "code",
      "metadata": {
        "id": "83oOn4YZxTMY"
      },
      "source": [
        "opt = Adam(lr=0.01)\n",
        "model.compile(loss='mean_squared_error', optimizer=opt)"
      ],
      "execution_count": null,
      "outputs": []
    },
    {
      "cell_type": "code",
      "metadata": {
        "id": "oipiqVqV0Baf"
      },
      "source": [
        "def batch_genrate(i):\n",
        "  batch_size = 3\n",
        "  t_fRAME = 2\n",
        "  X = []\n",
        "  Y = []\n",
        "  k=0\n",
        "  for k in range(batch_size):\n",
        "    X.append(images[i+k:i+k+batch_size])\n",
        "    Y.append(images[k+i+batch_size])\n",
        "  X = np.asarray(X)\n",
        "  Y = np.asarray(Y)\n",
        "  return X,Y"
      ],
      "execution_count": null,
      "outputs": []
    },
    {
      "cell_type": "code",
      "metadata": {
        "id": "S6M-7IJ_Hk4D",
        "colab": {
          "base_uri": "https://localhost:8080/",
          "height": 663
        },
        "outputId": "da832a84-39ba-46b4-8971-75c36fdac088"
      },
      "source": [
        "model.summary()"
      ],
      "execution_count": null,
      "outputs": [
        {
          "output_type": "stream",
          "text": [
            "Model: \"sequential_1\"\n",
            "_________________________________________________________________\n",
            "Layer (type)                 Output Shape              Param #   \n",
            "=================================================================\n",
            "conv_lst_m2d_1 (ConvLSTM2D)  (None, None, 200, 200, 40 62080     \n",
            "_________________________________________________________________\n",
            "batch_normalization_1 (Batch (None, None, 200, 200, 40 160       \n",
            "_________________________________________________________________\n",
            "conv_lst_m2d_2 (ConvLSTM2D)  (None, None, 200, 200, 60 216240    \n",
            "_________________________________________________________________\n",
            "batch_normalization_2 (Batch (None, None, 200, 200, 60 240       \n",
            "_________________________________________________________________\n",
            "conv_lst_m2d_3 (ConvLSTM2D)  (None, None, 200, 200, 60 259440    \n",
            "_________________________________________________________________\n",
            "batch_normalization_3 (Batch (None, None, 200, 200, 60 240       \n",
            "_________________________________________________________________\n",
            "conv_lst_m2d_4 (ConvLSTM2D)  (None, 200, 200, 60)      259440    \n",
            "_________________________________________________________________\n",
            "batch_normalization_4 (Batch (None, 200, 200, 60)      240       \n",
            "_________________________________________________________________\n",
            "conv2d_1 (Conv2D)            (None, 200, 200, 60)      32460     \n",
            "_________________________________________________________________\n",
            "batch_normalization_5 (Batch (None, 200, 200, 60)      240       \n",
            "_________________________________________________________________\n",
            "conv2d_2 (Conv2D)            (None, 200, 200, 60)      32460     \n",
            "_________________________________________________________________\n",
            "batch_normalization_6 (Batch (None, 200, 200, 60)      240       \n",
            "_________________________________________________________________\n",
            "conv2d_3 (Conv2D)            (None, 200, 200, 30)      16230     \n",
            "_________________________________________________________________\n",
            "batch_normalization_7 (Batch (None, 200, 200, 30)      120       \n",
            "_________________________________________________________________\n",
            "conv2d_4 (Conv2D)            (None, 200, 200, 3)       93        \n",
            "=================================================================\n",
            "Total params: 879,923\n",
            "Trainable params: 879,183\n",
            "Non-trainable params: 740\n",
            "_________________________________________________________________\n"
          ],
          "name": "stdout"
        }
      ]
    },
    {
      "cell_type": "code",
      "metadata": {
        "id": "kDP56EI10syT",
        "colab": {
          "base_uri": "https://localhost:8080/",
          "height": 1000
        },
        "outputId": "f1298032-86ee-4050-cac5-edbf6d8ae78d"
      },
      "source": [
        "model = load_model('/content/drive/My Drive/model/train3.h5')\n",
        "for i in range(7):\n",
        "    for j in range(0,30,3):\n",
        "      X,Y = batch_genrate(j)\n",
        "      print(i,j)\n",
        "      history=model.fit(X,Y,verbose=1)\n",
        "      model.save('/content/drive/My Drive/model/train3.h5')"
      ],
      "execution_count": null,
      "outputs": [
        {
          "output_type": "stream",
          "text": [
            "0 0\n",
            "Epoch 1/1\n",
            "3/3 [==============================] - 13s 4s/step - loss: 1.2581e-05\n",
            "0 3\n",
            "Epoch 1/1\n",
            "3/3 [==============================] - 2s 598ms/step - loss: 1.3584e-05\n",
            "0 6\n",
            "Epoch 1/1\n",
            "3/3 [==============================] - 2s 602ms/step - loss: 1.4691e-05\n",
            "0 9\n",
            "Epoch 1/1\n",
            "3/3 [==============================] - 2s 600ms/step - loss: 1.8725e-05\n",
            "0 12\n",
            "Epoch 1/1\n",
            "3/3 [==============================] - 2s 598ms/step - loss: 3.3081e-05\n",
            "0 15\n",
            "Epoch 1/1\n",
            "3/3 [==============================] - 2s 599ms/step - loss: 1.1400e-05\n",
            "0 18\n",
            "Epoch 1/1\n",
            "3/3 [==============================] - 2s 600ms/step - loss: 2.1814e-05\n",
            "0 21\n",
            "Epoch 1/1\n",
            "3/3 [==============================] - 2s 599ms/step - loss: 1.4506e-05\n",
            "0 24\n",
            "Epoch 1/1\n",
            "3/3 [==============================] - 2s 596ms/step - loss: 1.1542e-05\n",
            "0 27\n",
            "Epoch 1/1\n",
            "3/3 [==============================] - 2s 597ms/step - loss: 9.1026e-06\n",
            "1 0\n",
            "Epoch 1/1\n",
            "3/3 [==============================] - 2s 599ms/step - loss: 1.2295e-05\n",
            "1 3\n",
            "Epoch 1/1\n",
            "3/3 [==============================] - 2s 599ms/step - loss: 1.3272e-05\n",
            "1 6\n",
            "Epoch 1/1\n",
            "3/3 [==============================] - 2s 598ms/step - loss: 1.4260e-05\n",
            "1 9\n",
            "Epoch 1/1\n",
            "3/3 [==============================] - 2s 604ms/step - loss: 1.8294e-05\n",
            "1 12\n",
            "Epoch 1/1\n",
            "3/3 [==============================] - 2s 600ms/step - loss: 3.2727e-05\n",
            "1 15\n",
            "Epoch 1/1\n",
            "3/3 [==============================] - 2s 600ms/step - loss: 1.1355e-05\n",
            "1 18\n",
            "Epoch 1/1\n",
            "3/3 [==============================] - 2s 600ms/step - loss: 2.1797e-05\n",
            "1 21\n",
            "Epoch 1/1\n",
            "3/3 [==============================] - 2s 604ms/step - loss: 1.4270e-05\n",
            "1 24\n",
            "Epoch 1/1\n",
            "3/3 [==============================] - 2s 596ms/step - loss: 1.1315e-05\n",
            "1 27\n",
            "Epoch 1/1\n",
            "3/3 [==============================] - 2s 601ms/step - loss: 8.9775e-06\n",
            "2 0\n",
            "Epoch 1/1\n",
            "3/3 [==============================] - 2s 601ms/step - loss: 1.2463e-05\n",
            "2 3\n",
            "Epoch 1/1\n",
            "3/3 [==============================] - 2s 604ms/step - loss: 1.3822e-05\n",
            "2 6\n",
            "Epoch 1/1\n",
            "3/3 [==============================] - 2s 600ms/step - loss: 1.4943e-05\n",
            "2 9\n",
            "Epoch 1/1\n",
            "3/3 [==============================] - 2s 602ms/step - loss: 1.8678e-05\n",
            "2 12\n",
            "Epoch 1/1\n",
            "3/3 [==============================] - 2s 601ms/step - loss: 3.2890e-05\n",
            "2 15\n",
            "Epoch 1/1\n",
            "3/3 [==============================] - 2s 602ms/step - loss: 1.2905e-05\n",
            "2 18\n",
            "Epoch 1/1\n",
            "3/3 [==============================] - 2s 602ms/step - loss: 2.2980e-05\n",
            "2 21\n",
            "Epoch 1/1\n",
            "3/3 [==============================] - 2s 601ms/step - loss: 1.4913e-05\n",
            "2 24\n",
            "Epoch 1/1\n",
            "3/3 [==============================] - 2s 602ms/step - loss: 1.1416e-05\n",
            "2 27\n",
            "Epoch 1/1\n",
            "3/3 [==============================] - 2s 600ms/step - loss: 8.5347e-06\n",
            "3 0\n",
            "Epoch 1/1\n",
            "3/3 [==============================] - 2s 605ms/step - loss: 1.1965e-05\n",
            "3 3\n",
            "Epoch 1/1\n",
            "3/3 [==============================] - 2s 602ms/step - loss: 1.3315e-05\n",
            "3 6\n",
            "Epoch 1/1\n",
            "3/3 [==============================] - 2s 605ms/step - loss: 1.4306e-05\n",
            "3 9\n",
            "Epoch 1/1\n",
            "3/3 [==============================] - 2s 603ms/step - loss: 1.7587e-05\n",
            "3 12\n",
            "Epoch 1/1\n",
            "3/3 [==============================] - 2s 605ms/step - loss: 3.1208e-05\n",
            "3 15\n",
            "Epoch 1/1\n",
            "3/3 [==============================] - 2s 607ms/step - loss: 1.1360e-05\n",
            "3 18\n",
            "Epoch 1/1\n",
            "3/3 [==============================] - 2s 604ms/step - loss: 2.1168e-05\n",
            "3 21\n",
            "Epoch 1/1\n",
            "3/3 [==============================] - 2s 606ms/step - loss: 1.3510e-05\n",
            "3 24\n",
            "Epoch 1/1\n",
            "3/3 [==============================] - 2s 604ms/step - loss: 1.0775e-05\n",
            "3 27\n",
            "Epoch 1/1\n",
            "3/3 [==============================] - 2s 606ms/step - loss: 8.4892e-06\n",
            "4 0\n",
            "Epoch 1/1\n",
            "3/3 [==============================] - 2s 606ms/step - loss: 1.2165e-05\n",
            "4 3\n",
            "Epoch 1/1\n",
            "3/3 [==============================] - 2s 609ms/step - loss: 1.3189e-05\n",
            "4 6\n",
            "Epoch 1/1\n",
            "3/3 [==============================] - 2s 605ms/step - loss: 1.3585e-05\n",
            "4 9\n",
            "Epoch 1/1\n",
            "3/3 [==============================] - 2s 603ms/step - loss: 1.6309e-05\n",
            "4 12\n",
            "Epoch 1/1\n",
            "3/3 [==============================] - 2s 607ms/step - loss: 2.9937e-05\n",
            "4 15\n",
            "Epoch 1/1\n",
            "3/3 [==============================] - 2s 608ms/step - loss: 1.1202e-05\n",
            "4 18\n",
            "Epoch 1/1\n",
            "3/3 [==============================] - 2s 606ms/step - loss: 2.1132e-05\n",
            "4 21\n",
            "Epoch 1/1\n",
            "3/3 [==============================] - 2s 605ms/step - loss: 1.3329e-05\n",
            "4 24\n",
            "Epoch 1/1\n",
            "3/3 [==============================] - 2s 605ms/step - loss: 1.0412e-05\n",
            "4 27\n",
            "Epoch 1/1\n",
            "3/3 [==============================] - 2s 605ms/step - loss: 7.9200e-06\n",
            "5 0\n",
            "Epoch 1/1\n",
            "3/3 [==============================] - 2s 606ms/step - loss: 1.1707e-05\n",
            "5 3\n",
            "Epoch 1/1\n",
            "3/3 [==============================] - 2s 606ms/step - loss: 1.2883e-05\n",
            "5 6\n",
            "Epoch 1/1\n",
            "3/3 [==============================] - 2s 606ms/step - loss: 1.3286e-05\n",
            "5 9\n",
            "Epoch 1/1\n",
            "3/3 [==============================] - 2s 606ms/step - loss: 1.5798e-05\n",
            "5 12\n",
            "Epoch 1/1\n",
            "3/3 [==============================] - 2s 606ms/step - loss: 2.9255e-05\n",
            "5 15\n",
            "Epoch 1/1\n",
            "3/3 [==============================] - 2s 604ms/step - loss: 1.1079e-05\n",
            "5 18\n",
            "Epoch 1/1\n",
            "3/3 [==============================] - 2s 604ms/step - loss: 2.0760e-05\n",
            "5 21\n",
            "Epoch 1/1\n",
            "3/3 [==============================] - 2s 607ms/step - loss: 1.2881e-05\n",
            "5 24\n",
            "Epoch 1/1\n",
            "3/3 [==============================] - 2s 604ms/step - loss: 1.0108e-05\n",
            "5 27\n",
            "Epoch 1/1\n",
            "3/3 [==============================] - 2s 606ms/step - loss: 7.6878e-06\n",
            "6 0\n",
            "Epoch 1/1\n",
            "3/3 [==============================] - 2s 604ms/step - loss: 1.1624e-05\n",
            "6 3\n",
            "Epoch 1/1\n",
            "3/3 [==============================] - 2s 610ms/step - loss: 1.2724e-05\n",
            "6 6\n",
            "Epoch 1/1\n",
            "3/3 [==============================] - 2s 608ms/step - loss: 1.2949e-05\n",
            "6 9\n",
            "Epoch 1/1\n",
            "3/3 [==============================] - 2s 604ms/step - loss: 1.5173e-05\n",
            "6 12\n",
            "Epoch 1/1\n",
            "3/3 [==============================] - 2s 599ms/step - loss: 2.8531e-05\n",
            "6 15\n",
            "Epoch 1/1\n",
            "3/3 [==============================] - 2s 600ms/step - loss: 1.0976e-05\n",
            "6 18\n",
            "Epoch 1/1\n",
            "3/3 [==============================] - 2s 598ms/step - loss: 2.0425e-05\n",
            "6 21\n",
            "Epoch 1/1\n",
            "3/3 [==============================] - 2s 599ms/step - loss: 1.2488e-05\n",
            "6 24\n",
            "Epoch 1/1\n",
            "3/3 [==============================] - 2s 598ms/step - loss: 9.8493e-06\n",
            "6 27\n",
            "Epoch 1/1\n",
            "3/3 [==============================] - 2s 603ms/step - loss: 7.3957e-06\n"
          ],
          "name": "stdout"
        }
      ]
    },
    {
      "cell_type": "code",
      "metadata": {
        "id": "4dqSC5uaJN7R",
        "colab": {
          "base_uri": "https://localhost:8080/",
          "height": 34
        },
        "outputId": "4304a109-e9bd-431e-caeb-98f46ba4b6e1"
      },
      "source": [
        " \"\"\"!pip install gputil\n",
        "!pip install psutil\n",
        "!pip install humanize\n",
        "import psutil\n",
        "import humanize\n",
        "import os\n",
        "import GPUtil as GPU\n",
        "GPUs = GPU.getGPUs()\"\"\""
      ],
      "execution_count": null,
      "outputs": [
        {
          "output_type": "execute_result",
          "data": {
            "text/plain": [
              "'!pip install gputil\\n!pip install psutil\\n!pip install humanize\\nimport psutil\\nimport humanize\\nimport os\\nimport GPUtil as GPU\\nGPUs = GPU.getGPUs()'"
            ]
          },
          "metadata": {
            "tags": []
          },
          "execution_count": 188
        }
      ]
    },
    {
      "cell_type": "code",
      "metadata": {
        "id": "tiNrPH0rJSTk",
        "colab": {
          "base_uri": "https://localhost:8080/",
          "height": 54
        },
        "outputId": "490e6fe0-ce27-4d0e-ea60-f8d9fce2b6e5"
      },
      "source": [
        "\"\"\"gpu = GPUs[0]\n",
        "def printm():\n",
        " process = psutil.Process(os.getpid())\n",
        " print(\"Gen RAM Free: \" + humanize.naturalsize( psutil.virtual_memory().available ), \" | Proc size: \" + humanize.naturalsize( process.memory_info().rss))\n",
        " print(\"GPU RAM Free: {0:.0f}MB | Used: {1:.0f}MB | Util {2:3.0f}% | Total {3:.0f}MB\".format(gpu.memoryFree, gpu.memoryUsed, gpu.memoryUtil*100, gpu.memoryTotal))\n",
        "printm()\"\"\"\n"
      ],
      "execution_count": null,
      "outputs": [
        {
          "output_type": "execute_result",
          "data": {
            "text/plain": [
              "'gpu = GPUs[0]\\ndef printm():\\n process = psutil.Process(os.getpid())\\n print(\"Gen RAM Free: \" + humanize.naturalsize( psutil.virtual_memory().available ), \" | Proc size: \" + humanize.naturalsize( process.memory_info().rss))\\n print(\"GPU RAM Free: {0:.0f}MB | Used: {1:.0f}MB | Util {2:3.0f}% | Total {3:.0f}MB\".format(gpu.memoryFree, gpu.memoryUsed, gpu.memoryUtil*100, gpu.memoryTotal))\\nprintm()'"
            ]
          },
          "metadata": {
            "tags": []
          },
          "execution_count": 189
        }
      ]
    },
    {
      "cell_type": "code",
      "metadata": {
        "id": "Tt5Uly_JFKOu"
      },
      "source": [
        "model.save('/content/drive/My Drive/model/train3.h5')"
      ],
      "execution_count": null,
      "outputs": []
    },
    {
      "cell_type": "code",
      "metadata": {
        "id": "AG4tmeS_6UdY"
      },
      "source": [
        "model = load_model('/content/drive/My Drive/model/train3.h5')"
      ],
      "execution_count": null,
      "outputs": []
    },
    {
      "cell_type": "code",
      "metadata": {
        "id": "jMwcJtbzZDE3",
        "colab": {
          "base_uri": "https://localhost:8080/",
          "height": 232
        },
        "outputId": "c6eae559-fd2d-4065-ceab-24e3d419692b"
      },
      "source": [
        "loss = history.history['loss']\n",
        "plt.plot(15, loss, 'bo', label='Average Training loss')\n",
        "plt.title('Average Training and validation loss')\n",
        "plt.xlabel('Average Epochs')\n",
        "plt.ylabel('Loss')\n",
        "plt.legend()\n",
        "plt.show()"
      ],
      "execution_count": null,
      "outputs": [
        {
          "output_type": "error",
          "ename": "NameError",
          "evalue": "ignored",
          "traceback": [
            "\u001b[0;31m---------------------------------------------------------------------------\u001b[0m",
            "\u001b[0;31mNameError\u001b[0m                                 Traceback (most recent call last)",
            "\u001b[0;32m<ipython-input-20-1286b4b3a7f7>\u001b[0m in \u001b[0;36m<module>\u001b[0;34m()\u001b[0m\n\u001b[0;32m----> 1\u001b[0;31m \u001b[0mloss\u001b[0m \u001b[0;34m=\u001b[0m \u001b[0mhistory\u001b[0m\u001b[0;34m.\u001b[0m\u001b[0mhistory\u001b[0m\u001b[0;34m[\u001b[0m\u001b[0;34m'loss'\u001b[0m\u001b[0;34m]\u001b[0m\u001b[0;34m\u001b[0m\u001b[0;34m\u001b[0m\u001b[0m\n\u001b[0m\u001b[1;32m      2\u001b[0m \u001b[0mplt\u001b[0m\u001b[0;34m.\u001b[0m\u001b[0mplot\u001b[0m\u001b[0;34m(\u001b[0m\u001b[0;36m15\u001b[0m\u001b[0;34m,\u001b[0m \u001b[0mloss\u001b[0m\u001b[0;34m,\u001b[0m \u001b[0;34m'bo'\u001b[0m\u001b[0;34m,\u001b[0m \u001b[0mlabel\u001b[0m\u001b[0;34m=\u001b[0m\u001b[0;34m'Average Training loss'\u001b[0m\u001b[0;34m)\u001b[0m\u001b[0;34m\u001b[0m\u001b[0;34m\u001b[0m\u001b[0m\n\u001b[1;32m      3\u001b[0m \u001b[0mplt\u001b[0m\u001b[0;34m.\u001b[0m\u001b[0mtitle\u001b[0m\u001b[0;34m(\u001b[0m\u001b[0;34m'Average Training and validation loss'\u001b[0m\u001b[0;34m)\u001b[0m\u001b[0;34m\u001b[0m\u001b[0;34m\u001b[0m\u001b[0m\n\u001b[1;32m      4\u001b[0m \u001b[0mplt\u001b[0m\u001b[0;34m.\u001b[0m\u001b[0mxlabel\u001b[0m\u001b[0;34m(\u001b[0m\u001b[0;34m'Average Epochs'\u001b[0m\u001b[0;34m)\u001b[0m\u001b[0;34m\u001b[0m\u001b[0;34m\u001b[0m\u001b[0m\n\u001b[1;32m      5\u001b[0m \u001b[0mplt\u001b[0m\u001b[0;34m.\u001b[0m\u001b[0mylabel\u001b[0m\u001b[0;34m(\u001b[0m\u001b[0;34m'Loss'\u001b[0m\u001b[0;34m)\u001b[0m\u001b[0;34m\u001b[0m\u001b[0;34m\u001b[0m\u001b[0m\n",
            "\u001b[0;31mNameError\u001b[0m: name 'history' is not defined"
          ]
        }
      ]
    },
    {
      "cell_type": "code",
      "metadata": {
        "id": "776_C_kCCZXc"
      },
      "source": [
        "#model =load_model('/content/drive/My Drive/model/train3.h5')"
      ],
      "execution_count": null,
      "outputs": []
    },
    {
      "cell_type": "code",
      "metadata": {
        "id": "jE_XTiMw0y9G"
      },
      "source": [
        "X,Y = batch_genrate(3)\n",
        "out_image = model.predict(X)"
      ],
      "execution_count": null,
      "outputs": []
    },
    {
      "cell_type": "code",
      "metadata": {
        "id": "Xjlhg9jh_Uyl",
        "colab": {
          "base_uri": "https://localhost:8080/",
          "height": 323
        },
        "outputId": "e2f9ce4a-3776-4564-b21b-a987991b480b"
      },
      "source": [
        "plt.imshow(out_image[0])"
      ],
      "execution_count": null,
      "outputs": [
        {
          "output_type": "stream",
          "text": [
            "Clipping input data to the valid range for imshow with RGB data ([0..1] for floats or [0..255] for integers).\n"
          ],
          "name": "stderr"
        },
        {
          "output_type": "execute_result",
          "data": {
            "text/plain": [
              "<matplotlib.image.AxesImage at 0x7f3cf012d860>"
            ]
          },
          "metadata": {
            "tags": []
          },
          "execution_count": 22
        },
        {
          "output_type": "display_data",
          "data": {
            "image/png": "[encoded data removed]",
            "text/plain": [
              "<Figure size 432x288 with 1 Axes>"
            ]
          },
          "metadata": {
            "tags": [],
            "needs_background": "light"
          }
        }
      ]
    },
    {
      "cell_type": "code",
      "metadata": {
        "id": "D3j7FHP6_c9r",
        "colab": {
          "base_uri": "https://localhost:8080/",
          "height": 164
        },
        "outputId": "014c5d1e-a4f7-4d03-dabe-ffcb551c611f"
      },
      "source": [
        "plt.imshow(out_image[1])\n"
      ],
      "execution_count": null,
      "outputs": [
        {
          "output_type": "error",
          "ename": "NameError",
          "evalue": "ignored",
          "traceback": [
            "\u001b[0;31m---------------------------------------------------------------------------\u001b[0m",
            "\u001b[0;31mNameError\u001b[0m                                 Traceback (most recent call last)",
            "\u001b[0;32m<ipython-input-1-2dce07e3a9b8>\u001b[0m in \u001b[0;36m<module>\u001b[0;34m()\u001b[0m\n\u001b[0;32m----> 1\u001b[0;31m \u001b[0mplt\u001b[0m\u001b[0;34m.\u001b[0m\u001b[0mimshow\u001b[0m\u001b[0;34m(\u001b[0m\u001b[0mout_image\u001b[0m\u001b[0;34m[\u001b[0m\u001b[0;36m1\u001b[0m\u001b[0;34m]\u001b[0m\u001b[0;34m)\u001b[0m\u001b[0;34m\u001b[0m\u001b[0;34m\u001b[0m\u001b[0m\n\u001b[0m",
            "\u001b[0;31mNameError\u001b[0m: name 'plt' is not defined"
          ]
        }
      ]
    },
    {
      "cell_type": "code",
      "metadata": {
        "id": "6M0zGpag76xk",
        "colab": {
          "base_uri": "https://localhost:8080/",
          "height": 323
        },
        "outputId": "eaf48d70-428d-4b34-8c3d-ea6902e5a766"
      },
      "source": [
        "plt.imshow(out_image[2])"
      ],
      "execution_count": null,
      "outputs": [
        {
          "output_type": "stream",
          "text": [
            "Clipping input data to the valid range for imshow with RGB data ([0..1] for floats or [0..255] for integers).\n"
          ],
          "name": "stderr"
        },
        {
          "output_type": "execute_result",
          "data": {
            "text/plain": [
              "<matplotlib.image.AxesImage at 0x7f3cef82d6d8>"
            ]
          },
          "metadata": {
            "tags": []
          },
          "execution_count": 24
        },
        {
          "output_type": "display_data",
          "data": {
            "image/png": "[encoded data removed]",
            "text/plain": [
              "<Figure size 432x288 with 1 Axes>"
            ]
          },
          "metadata": {
            "tags": [],
            "needs_background": "light"
          }
        }
      ]
    },
    {
      "cell_type": "code",
      "metadata": {
        "id": "cmTtlb0cctiF",
        "colab": {
          "base_uri": "https://localhost:8080/",
          "height": 34
        },
        "outputId": "382d844b-9f42-42b7-fb44-0a5a434dab30"
      },
      "source": [
        "\"\"\"-------------------isse upr tk hi chalana ha----------------\"\"\""
      ],
      "execution_count": null,
      "outputs": [
        {
          "output_type": "execute_result",
          "data": {
            "text/plain": [
              "'-------------------isse upr tk hi chalana ha----------------'"
            ]
          },
          "metadata": {
            "tags": []
          },
          "execution_count": 220
        }
      ]
    },
    {
      "cell_type": "code",
      "metadata": {
        "id": "pzgQ7LoNxvYq",
        "colab": {
          "base_uri": "https://localhost:8080/",
          "height": 34
        },
        "outputId": "16232aad-ca8e-466a-9802-3854839f6f45"
      },
      "source": [
        "cv2.imwrite(\"out.jpg\",cv2.cvtColor(out_image[0]*255, cv2.COLOR_BGR2RGB) )"
      ],
      "execution_count": null,
      "outputs": [
        {
          "output_type": "execute_result",
          "data": {
            "text/plain": [
              "True"
            ]
          },
          "metadata": {
            "tags": []
          },
          "execution_count": 25
        }
      ]
    },
    {
      "cell_type": "code",
      "metadata": {
        "id": "75GgUUuOtZq7"
      },
      "source": [
        "img = plt.imread('out.jpg')"
      ],
      "execution_count": null,
      "outputs": []
    },
    {
      "cell_type": "code",
      "metadata": {
        "id": "q_M5h_G7o5Qn"
      },
      "source": [
        "X = [] \n",
        "for i in range(4):\n",
        "  X.append(images[1+i])\n",
        "X.append(img/255)\n",
        "Y = []\n",
        "Y.append(X)\n",
        "X = np.asarray(Y)\n",
        "out = model.predict(X)"
      ],
      "execution_count": null,
      "outputs": []
    },
    {
      "cell_type": "code",
      "metadata": {
        "id": "C1n_K4Ix1f4C",
        "colab": {
          "base_uri": "https://localhost:8080/",
          "height": 323
        },
        "outputId": "e6f9a0ed-9d7b-408e-8ebf-804b7f67c2d1"
      },
      "source": [
        "plt.imshow(out[0])"
      ],
      "execution_count": null,
      "outputs": [
        {
          "output_type": "stream",
          "text": [
            "Clipping input data to the valid range for imshow with RGB data ([0..1] for floats or [0..255] for integers).\n"
          ],
          "name": "stderr"
        },
        {
          "output_type": "execute_result",
          "data": {
            "text/plain": [
              "<matplotlib.image.AxesImage at 0x7f3cef76f940>"
            ]
          },
          "metadata": {
            "tags": []
          },
          "execution_count": 28
        },
        {
          "output_type": "display_data",
          "data": {
            "image/png": "[encoded data removed]",
            "text/plain": [
              "<Figure size 432x288 with 1 Axes>"
            ]
          },
          "metadata": {
            "tags": [],
            "needs_background": "light"
          }
        }
      ]
    },
    {
      "cell_type": "code",
      "metadata": {
        "id": "sCuPvmIm7URw",
        "colab": {
          "base_uri": "https://localhost:8080/",
          "height": 34
        },
        "outputId": "644abf02-623b-4d55-c590-1dfc6a6ca0b4"
      },
      "source": [
        "cv2.imwrite(\"out1.jpg\",cv2.cvtColor(out_image[0]*255, cv2.COLOR_BGR2RGB) )"
      ],
      "execution_count": null,
      "outputs": [
        {
          "output_type": "execute_result",
          "data": {
            "text/plain": [
              "True"
            ]
          },
          "metadata": {
            "tags": []
          },
          "execution_count": 29
        }
      ]
    },
    {
      "cell_type": "code",
      "metadata": {
        "id": "2wnSfJyt1tcF"
      },
      "source": [
        "out_image = model.predict(X)"
      ],
      "execution_count": null,
      "outputs": []
    },
    {
      "cell_type": "code",
      "metadata": {
        "id": "uPjra_Vr1uHX",
        "colab": {
          "base_uri": "https://localhost:8080/",
          "height": 323
        },
        "outputId": "043b21f7-e0c7-42be-9cb1-77448b489d36"
      },
      "source": [
        "plt.imshow(out_image[0])"
      ],
      "execution_count": null,
      "outputs": [
        {
          "output_type": "stream",
          "text": [
            "Clipping input data to the valid range for imshow with RGB data ([0..1] for floats or [0..255] for integers).\n"
          ],
          "name": "stderr"
        },
        {
          "output_type": "execute_result",
          "data": {
            "text/plain": [
              "<matplotlib.image.AxesImage at 0x7f3cef6ccb00>"
            ]
          },
          "metadata": {
            "tags": []
          },
          "execution_count": 31
        },
        {
          "output_type": "display_data",
          "data": {
            "image/png": "[encoded data removed]",
            "text/plain": [
              "<Figure size 432x288 with 1 Axes>"
            ]
          },
          "metadata": {
            "tags": [],
            "needs_background": "light"
          }
        }
      ]
    },
    {
      "cell_type": "code",
      "metadata": {
        "id": "HiisfDN910VX",
        "colab": {
          "base_uri": "https://localhost:8080/",
          "height": 34
        },
        "outputId": "937a7f74-d8f9-4ce8-c7c8-2302a51eaf73"
      },
      "source": [
        "cv2.imwrite(\"out2.jpg\",cv2.cvtColor(out_image[0]*255, cv2.COLOR_BGR2RGB) )"
      ],
      "execution_count": null,
      "outputs": [
        {
          "output_type": "execute_result",
          "data": {
            "text/plain": [
              "True"
            ]
          },
          "metadata": {
            "tags": []
          },
          "execution_count": 32
        }
      ]
    },
    {
      "cell_type": "code",
      "metadata": {
        "id": "2dS--mvYq62-",
        "colab": {
          "base_uri": "https://localhost:8080/",
          "height": 303
        },
        "outputId": "55aeed64-b5ab-4673-af46-a4dce802c75c"
      },
      "source": [
        "#plt.imshow(out[0])"
      ],
      "execution_count": null,
      "outputs": [
        {
          "output_type": "stream",
          "text": [
            "WARNING:matplotlib.image:Clipping input data to the valid range for imshow with RGB data ([0..1] for floats or [0..255] for integers).\n"
          ],
          "name": "stderr"
        },
        {
          "output_type": "execute_result",
          "data": {
            "text/plain": [
              "<matplotlib.image.AxesImage at 0x7f3dff27f0f0>"
            ]
          },
          "metadata": {
            "tags": []
          },
          "execution_count": 55
        },
        {
          "output_type": "display_data",
          "data": {
            "image/png": "[encoded data removed]",
            "text/plain": [
              "<Figure size 432x288 with 1 Axes>"
            ]
          },
          "metadata": {
            "tags": []
          }
        }
      ]
    },
    {
      "cell_type": "code",
      "metadata": {
        "id": "q-v-6SzXFD1F",
        "colab": {
          "base_uri": "https://localhost:8080/",
          "height": 34
        },
        "outputId": "fd677232-5444-465a-d55a-ccb8ced6c46c"
      },
      "source": [
        "cv2.imwrite(\"out1.jpg\",cv2.cvtColor(out_image[0]*255, cv2.COLOR_BGR2RGB) )"
      ],
      "execution_count": null,
      "outputs": [
        {
          "output_type": "execute_result",
          "data": {
            "text/plain": [
              "True"
            ]
          },
          "metadata": {
            "tags": []
          },
          "execution_count": 58
        }
      ]
    }
  ]
}